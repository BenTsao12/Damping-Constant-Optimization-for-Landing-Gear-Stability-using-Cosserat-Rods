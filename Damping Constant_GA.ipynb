{
 "cells": [
  {
   "cell_type": "code",
   "execution_count": 83,
   "id": "babb99c1",
   "metadata": {},
   "outputs": [],
   "source": [
    "import numpy as np\n",
    "import math\n",
    "from IPython.core.interactiveshell import InteractiveShell\n",
    "InteractiveShell.ast_node_interactivity = \"all\"\n",
    "\n",
    "POP_SIZE = 20\n",
    "N_x = 1\n",
    "Interval_low = 0\n",
    "Interval_high = 2"
   ]
  },
  {
   "cell_type": "code",
   "execution_count": 84,
   "id": "e8dd2d06",
   "metadata": {},
   "outputs": [
    {
     "name": "stdout",
     "output_type": "stream",
     "text": [
      "(20, 1)\n",
      "[[0.15521371]\n",
      " [1.44608883]\n",
      " [1.48873874]\n",
      " [1.5777092 ]\n",
      " [1.65440861]\n",
      " [1.01415256]\n",
      " [0.18908204]\n",
      " [1.36718081]\n",
      " [0.89591492]\n",
      " [0.1249965 ]\n",
      " [0.57075177]\n",
      " [0.52136099]\n",
      " [0.49817961]\n",
      " [1.44457866]\n",
      " [0.11361593]\n",
      " [0.27989462]\n",
      " [0.98076359]\n",
      " [0.99000904]\n",
      " [1.99202878]\n",
      " [1.39650831]]\n"
     ]
    }
   ],
   "source": [
    "curr_population = np.random.uniform(low=Interval_low, high=Interval_high, size=(POP_SIZE,N_x))\n",
    "print(curr_population.shape)\n",
    "print(curr_population)"
   ]
  },
  {
   "cell_type": "code",
   "execution_count": 85,
   "id": "6b6c9e32",
   "metadata": {},
   "outputs": [],
   "source": [
    "def calc_fitness(t_pop):\n",
    "    fitness = []\n",
    "    for i in range(len(t_pop)):\n",
    "        y = t_pop[i, 0]/(np.sqrt((2*np.pi)**2 + (t_pop[i, 0])**2))  #(x-shift_x)/(np.sqrt((2*np.pi)**2 + (x-shift_x)**2)) + 0*(y-shift_y)\n",
    "        fitness.append(y)\n",
    "    return np.array(fitness)"
   ]
  },
  {
   "cell_type": "code",
   "execution_count": 86,
   "id": "018f638b",
   "metadata": {},
   "outputs": [
    {
     "name": "stdout",
     "output_type": "stream",
     "text": [
      "(20,)\n",
      "[0.0246955  0.22428855 0.2305567  0.24353982 0.25462843 0.15934508\n",
      " 0.03007972 0.21261838 0.14116148 0.01988987 0.09046549 0.08269299\n",
      " 0.07903969 0.22406608 0.01807958 0.04450248 0.15422581 0.15564461\n",
      " 0.30221619 0.21696672]\n"
     ]
    }
   ],
   "source": [
    "my_fitness = calc_fitness(curr_population)\n",
    "print(my_fitness.shape)\n",
    "print(my_fitness)"
   ]
  },
  {
   "cell_type": "code",
   "execution_count": 87,
   "id": "29c3f40b",
   "metadata": {},
   "outputs": [],
   "source": [
    "N_MATING = 3\n",
    "\n",
    "def select_determinstic(t_pop, t_fitness):\n",
    "    idx = np.argsort(t_fitness)\n",
    "    idx = idx[::-1]\n",
    "    parents = t_pop[idx]\n",
    "    parents = parents[:N_MATING, :]\n",
    "    return (parents, calc_fitness(parents))"
   ]
  },
  {
   "cell_type": "code",
   "execution_count": 88,
   "id": "f2de0da6",
   "metadata": {},
   "outputs": [
    {
     "name": "stdout",
     "output_type": "stream",
     "text": [
      "[[1.99202878]\n",
      " [1.65440861]\n",
      " [1.5777092 ]]\n",
      "[0.30221619 0.25462843 0.24353982]\n"
     ]
    }
   ],
   "source": [
    "my_parents, my_par_fitness = select_determinstic(curr_population, my_fitness)\n",
    "print(my_parents)\n",
    "print(my_par_fitness)"
   ]
  },
  {
   "cell_type": "code",
   "execution_count": 89,
   "id": "b5cf438c",
   "metadata": {},
   "outputs": [],
   "source": [
    "N_OFFSPRING = 3\n",
    "IDX_CROSSOVER = 1\n",
    "\n",
    "def crossover(t_parents):\n",
    "    offspring = np.empty((N_OFFSPRING, N_x))\n",
    "\n",
    "    for k in range(N_OFFSPRING):\n",
    "        p1_idx = k%N_MATING\n",
    "        offspring[k] = t_parents[p1_idx]\n",
    "        \n",
    "    return (offspring, calc_fitness(offspring))"
   ]
  },
  {
   "cell_type": "code",
   "execution_count": 90,
   "id": "c54d8d6a",
   "metadata": {},
   "outputs": [
    {
     "data": {
      "text/plain": [
       "array([[1.99202878],\n",
       "       [1.65440861],\n",
       "       [1.5777092 ]])"
      ]
     },
     "execution_count": 90,
     "metadata": {},
     "output_type": "execute_result"
    },
    {
     "data": {
      "text/plain": [
       "array([[1.99202878],\n",
       "       [1.65440861],\n",
       "       [1.5777092 ]])"
      ]
     },
     "execution_count": 90,
     "metadata": {},
     "output_type": "execute_result"
    }
   ],
   "source": [
    "my_offspring,  my_offspring_fitness = crossover(my_parents)\n",
    "my_parents\n",
    "my_offspring"
   ]
  },
  {
   "cell_type": "code",
   "execution_count": 91,
   "id": "a012ee87",
   "metadata": {},
   "outputs": [],
   "source": [
    "PM = 0.5\n",
    "def mutation(t_offspring):\n",
    "    random_mutator = np.random.uniform(0.0, 1.0, (N_OFFSPRING,))\n",
    "    idx = random_mutator > PM\n",
    "    nnz = np.count_nonzero(idx)\n",
    "    mutated_offspring = t_offspring.copy()\n",
    "    mutated_offspring[idx] += np.random.uniform(-0.5, 0.5, (nnz, N_x))\n",
    "\n",
    "    return (mutated_offspring, calc_fitness(mutated_offspring))"
   ]
  },
  {
   "cell_type": "code",
   "execution_count": 92,
   "id": "ed3141fd",
   "metadata": {},
   "outputs": [
    {
     "name": "stdout",
     "output_type": "stream",
     "text": [
      "[[1.99202878]\n",
      " [1.65440861]\n",
      " [1.5777092 ]]\n",
      "[[1.99202878]\n",
      " [1.51252736]\n",
      " [1.62452499]]\n",
      "[0.30221619 0.23404048 0.25031975]\n"
     ]
    }
   ],
   "source": [
    "my_mut_offspring, my_mut_offspring_fitness = mutation(my_offspring)\n",
    "print(my_offspring)\n",
    "print(my_mut_offspring)\n",
    "print(my_mut_offspring_fitness)"
   ]
  },
  {
   "cell_type": "code",
   "execution_count": 93,
   "id": "c62c4944",
   "metadata": {},
   "outputs": [],
   "source": [
    "def hard_constraint(t_total_pop):\n",
    "    idx1 = (t_total_pop >= Interval_low)\n",
    "    idx2 = (t_total_pop <= Interval_high)\n",
    "    idx = idx1 & idx2\n",
    "    idx = np.all(idx, axis=1)\n",
    "\n",
    "    return t_total_pop[idx]"
   ]
  },
  {
   "cell_type": "code",
   "execution_count": 94,
   "id": "ebd0066c",
   "metadata": {},
   "outputs": [
    {
     "name": "stdout",
     "output_type": "stream",
     "text": [
      "(23, 1)\n",
      "[[0.15521371]\n",
      " [1.44608883]\n",
      " [1.48873874]\n",
      " [1.5777092 ]\n",
      " [1.65440861]\n",
      " [1.01415256]\n",
      " [0.18908204]\n",
      " [1.36718081]\n",
      " [0.89591492]\n",
      " [0.1249965 ]\n",
      " [0.57075177]\n",
      " [0.52136099]\n",
      " [0.49817961]\n",
      " [1.44457866]\n",
      " [0.11361593]\n",
      " [0.27989462]\n",
      " [0.98076359]\n",
      " [0.99000904]\n",
      " [1.99202878]\n",
      " [1.39650831]\n",
      " [1.99202878]\n",
      " [1.51252736]\n",
      " [1.62452499]]\n"
     ]
    }
   ],
   "source": [
    "total_population = np.vstack((curr_population, my_mut_offspring))\n",
    "total_population = hard_constraint(total_population)\n",
    "print(total_population.shape)\n",
    "print(total_population)"
   ]
  },
  {
   "cell_type": "code",
   "execution_count": 95,
   "id": "7d4b6471",
   "metadata": {},
   "outputs": [],
   "source": [
    "def environmental_selection(t_total_pop):\n",
    "    tot_fitness = calc_fitness(t_total_pop)\n",
    "    idx = np.argsort(tot_fitness)\n",
    "    idx = idx[::-1]\n",
    "    idx = idx[:POP_SIZE]\n",
    "    return t_total_pop[idx]"
   ]
  },
  {
   "cell_type": "code",
   "execution_count": 96,
   "id": "bad84bf7",
   "metadata": {},
   "outputs": [
    {
     "name": "stdout",
     "output_type": "stream",
     "text": [
      "Before\n",
      "(23, 1)\n",
      "[[0.15521371]\n",
      " [1.44608883]\n",
      " [1.48873874]\n",
      " [1.5777092 ]\n",
      " [1.65440861]\n",
      " [1.01415256]\n",
      " [0.18908204]\n",
      " [1.36718081]\n",
      " [0.89591492]\n",
      " [0.1249965 ]\n",
      " [0.57075177]\n",
      " [0.52136099]\n",
      " [0.49817961]\n",
      " [1.44457866]\n",
      " [0.11361593]\n",
      " [0.27989462]\n",
      " [0.98076359]\n",
      " [0.99000904]\n",
      " [1.99202878]\n",
      " [1.39650831]\n",
      " [1.99202878]\n",
      " [1.51252736]\n",
      " [1.62452499]]\n",
      "[0.0246955  0.22428855 0.2305567  0.24353982 0.25462843 0.15934508\n",
      " 0.03007972 0.21261838 0.14116148 0.01988987 0.09046549 0.08269299\n",
      " 0.07903969 0.22406608 0.01807958 0.04450248 0.15422581 0.15564461\n",
      " 0.30221619 0.21696672 0.30221619 0.23404048 0.25031975]\n",
      "After\n",
      "(20, 1)\n",
      "[[1.99202878]\n",
      " [1.99202878]\n",
      " [1.65440861]\n",
      " [1.62452499]\n",
      " [1.5777092 ]\n",
      " [1.51252736]\n",
      " [1.48873874]\n",
      " [1.44608883]\n",
      " [1.44457866]\n",
      " [1.39650831]\n",
      " [1.36718081]\n",
      " [1.01415256]\n",
      " [0.99000904]\n",
      " [0.98076359]\n",
      " [0.89591492]\n",
      " [0.57075177]\n",
      " [0.52136099]\n",
      " [0.49817961]\n",
      " [0.27989462]\n",
      " [0.18908204]]\n",
      "[0.30221619 0.30221619 0.25462843 0.25031975 0.24353982 0.23404048\n",
      " 0.2305567  0.22428855 0.22406608 0.21696672 0.21261838 0.15934508\n",
      " 0.15564461 0.15422581 0.14116148 0.09046549 0.08269299 0.07903969\n",
      " 0.04450248 0.03007972]\n"
     ]
    }
   ],
   "source": [
    "print(\"Before\")\n",
    "print(total_population.shape)\n",
    "print(total_population)\n",
    "print(calc_fitness(total_population))\n",
    "print(\"After\")\n",
    "new_population = environmental_selection(total_population)\n",
    "print(new_population.shape)\n",
    "print(new_population)\n",
    "print(calc_fitness(new_population))"
   ]
  },
  {
   "cell_type": "code",
   "execution_count": 97,
   "id": "2ea88cc4",
   "metadata": {},
   "outputs": [
    {
     "name": "stdout",
     "output_type": "stream",
     "text": [
      "Generation :  0\n",
      "Best result in current iteration 0.2795965149366501 compared to overall 99999\n",
      "Generation :  1\n",
      "Best result in current iteration 0.2795965149366501 compared to overall 99999\n",
      "Generation :  2\n",
      "Best result in current iteration 0.29342511651881825 compared to overall 99999\n",
      "Generation :  3\n",
      "Best result in current iteration 0.29342511651881825 compared to overall 99999\n",
      "Generation :  4\n",
      "Best result in current iteration 0.29342511651881825 compared to overall 99999\n",
      "Generation :  5\n",
      "Best result in current iteration 0.29467091420251507 compared to overall 99999\n",
      "Generation :  6\n",
      "Best result in current iteration 0.29467091420251507 compared to overall 99999\n",
      "Generation :  7\n",
      "Best result in current iteration 0.29467091420251507 compared to overall 99999\n",
      "Generation :  8\n",
      "Best result in current iteration 0.29467091420251507 compared to overall 99999\n",
      "Generation :  9\n",
      "Best result in current iteration 0.3013019174234595 compared to overall 99999\n",
      "Generation :  10\n",
      "Best result in current iteration 0.3013019174234595 compared to overall 99999\n",
      "Generation :  11\n",
      "Best result in current iteration 0.3013019174234595 compared to overall 99999\n",
      "Generation :  12\n",
      "Best result in current iteration 0.3013019174234595 compared to overall 99999\n",
      "Generation :  13\n",
      "Best result in current iteration 0.3013019174234595 compared to overall 99999\n",
      "Generation :  14\n",
      "Best result in current iteration 0.3013019174234595 compared to overall 99999\n",
      "Generation :  15\n",
      "Best result in current iteration 0.3013019174234595 compared to overall 99999\n",
      "Generation :  16\n",
      "Best result in current iteration 0.3013019174234595 compared to overall 99999\n",
      "Generation :  17\n",
      "Best result in current iteration 0.3013019174234595 compared to overall 99999\n",
      "Generation :  18\n",
      "Best result in current iteration 0.3013019174234595 compared to overall 99999\n",
      "Generation :  19\n",
      "Best result in current iteration 0.3013019174234595 compared to overall 99999\n",
      "Generation :  20\n",
      "Best result in current iteration 0.3013019174234595 compared to overall 99999\n",
      "Generation :  21\n",
      "Best result in current iteration 0.3013019174234595 compared to overall 99999\n",
      "Generation :  22\n",
      "Best result in current iteration 0.3013019174234595 compared to overall 99999\n",
      "Generation :  23\n",
      "Best result in current iteration 0.3013019174234595 compared to overall 99999\n",
      "Generation :  24\n",
      "Best result in current iteration 0.3013019174234595 compared to overall 99999\n",
      "Generation :  25\n",
      "Best result in current iteration 0.3013019174234595 compared to overall 99999\n",
      "Generation :  26\n",
      "Best result in current iteration 0.3013019174234595 compared to overall 99999\n",
      "Generation :  27\n",
      "Best result in current iteration 0.3013019174234595 compared to overall 99999\n",
      "Generation :  28\n",
      "Best result in current iteration 0.3013019174234595 compared to overall 99999\n",
      "Generation :  29\n",
      "Best result in current iteration 0.3013019174234595 compared to overall 99999\n",
      "Generation :  30\n",
      "Best result in current iteration 0.3013019174234595 compared to overall 99999\n",
      "Generation :  31\n",
      "Best result in current iteration 0.3013019174234595 compared to overall 99999\n",
      "Generation :  32\n",
      "Best result in current iteration 0.3013019174234595 compared to overall 99999\n",
      "Generation :  33\n",
      "Best result in current iteration 0.3013019174234595 compared to overall 99999\n",
      "Generation :  34\n",
      "Best result in current iteration 0.3013019174234595 compared to overall 99999\n",
      "Generation :  35\n",
      "Best result in current iteration 0.3013019174234595 compared to overall 99999\n",
      "Generation :  36\n",
      "Best result in current iteration 0.3013019174234595 compared to overall 99999\n",
      "Generation :  37\n",
      "Best result in current iteration 0.3013019174234595 compared to overall 99999\n",
      "Generation :  38\n",
      "Best result in current iteration 0.3013019174234595 compared to overall 99999\n",
      "Generation :  39\n",
      "Best result in current iteration 0.3013019174234595 compared to overall 99999\n",
      "Generation :  40\n",
      "Best result in current iteration 0.3013019174234595 compared to overall 99999\n",
      "Generation :  41\n",
      "Best result in current iteration 0.3013019174234595 compared to overall 99999\n",
      "Generation :  42\n",
      "Best result in current iteration 0.3013019174234595 compared to overall 99999\n",
      "Generation :  43\n",
      "Best result in current iteration 0.3013019174234595 compared to overall 99999\n",
      "Generation :  44\n",
      "Best result in current iteration 0.3013019174234595 compared to overall 99999\n",
      "Generation :  45\n",
      "Best result in current iteration 0.3013019174234595 compared to overall 99999\n",
      "Generation :  46\n",
      "Best result in current iteration 0.3013019174234595 compared to overall 99999\n",
      "Generation :  47\n",
      "Best result in current iteration 0.3013019174234595 compared to overall 99999\n",
      "Generation :  48\n",
      "Best result in current iteration 0.3013019174234595 compared to overall 99999\n",
      "Generation :  49\n",
      "Best result in current iteration 0.3013019174234595 compared to overall 99999\n",
      "Generation :  50\n",
      "Best result in current iteration 0.3013019174234595 compared to overall 99999\n",
      "Generation :  51\n",
      "Best result in current iteration 0.3013019174234595 compared to overall 99999\n",
      "Generation :  52\n",
      "Best result in current iteration 0.3013019174234595 compared to overall 99999\n",
      "Generation :  53\n",
      "Best result in current iteration 0.3013019174234595 compared to overall 99999\n",
      "Generation :  54\n",
      "Best result in current iteration 0.3013019174234595 compared to overall 99999\n",
      "Generation :  55\n",
      "Best result in current iteration 0.3013019174234595 compared to overall 99999\n",
      "Generation :  56\n",
      "Best result in current iteration 0.3013019174234595 compared to overall 99999\n",
      "Generation :  57\n",
      "Best result in current iteration 0.3013019174234595 compared to overall 99999\n",
      "Generation :  58\n",
      "Best result in current iteration 0.3013019174234595 compared to overall 99999\n",
      "Generation :  59\n",
      "Best result in current iteration 0.3013019174234595 compared to overall 99999\n",
      "Generation :  60\n",
      "Best result in current iteration 0.3013019174234595 compared to overall 99999\n",
      "Generation :  61\n",
      "Best result in current iteration 0.3013019174234595 compared to overall 99999\n",
      "Generation :  62\n",
      "Best result in current iteration 0.3013019174234595 compared to overall 99999\n",
      "Generation :  63\n",
      "Best result in current iteration 0.3013019174234595 compared to overall 99999\n",
      "Generation :  64\n",
      "Best result in current iteration 0.3013019174234595 compared to overall 99999\n",
      "Generation :  65\n",
      "Best result in current iteration 0.3013019174234595 compared to overall 99999\n",
      "Generation :  66\n",
      "Best result in current iteration 0.3013019174234595 compared to overall 99999\n",
      "Generation :  67\n",
      "Best result in current iteration 0.3013019174234595 compared to overall 99999\n",
      "Generation :  68\n",
      "Best result in current iteration 0.3013019174234595 compared to overall 99999\n",
      "Generation :  69\n",
      "Best result in current iteration 0.3013019174234595 compared to overall 99999\n",
      "Generation :  70\n",
      "Best result in current iteration 0.3013019174234595 compared to overall 99999\n",
      "Generation :  71\n",
      "Best result in current iteration 0.3013019174234595 compared to overall 99999\n",
      "Generation :  72\n",
      "Best result in current iteration 0.3013019174234595 compared to overall 99999\n",
      "Generation :  73\n",
      "Best result in current iteration 0.3013019174234595 compared to overall 99999\n",
      "Generation :  74\n",
      "Best result in current iteration 0.3013019174234595 compared to overall 99999\n",
      "Generation :  75\n",
      "Best result in current iteration 0.3013019174234595 compared to overall 99999\n",
      "Generation :  76\n",
      "Best result in current iteration 0.3013019174234595 compared to overall 99999\n",
      "Generation :  77\n",
      "Best result in current iteration 0.3013019174234595 compared to overall 99999\n",
      "Generation :  78\n",
      "Best result in current iteration 0.3013019174234595 compared to overall 99999\n",
      "Generation :  79\n",
      "Best result in current iteration 0.3013019174234595 compared to overall 99999\n",
      "Generation :  80\n",
      "Best result in current iteration 0.3013019174234595 compared to overall 99999\n",
      "Generation :  81\n",
      "Best result in current iteration 0.3013019174234595 compared to overall 99999\n",
      "Generation :  82\n",
      "Best result in current iteration 0.3013019174234595 compared to overall 99999\n",
      "Generation :  83\n",
      "Best result in current iteration 0.3013019174234595 compared to overall 99999\n",
      "Generation :  84\n",
      "Best result in current iteration 0.3013019174234595 compared to overall 99999\n",
      "Generation :  85\n",
      "Best result in current iteration 0.3013019174234595 compared to overall 99999\n",
      "Generation :  86\n",
      "Best result in current iteration 0.3013019174234595 compared to overall 99999\n",
      "Generation :  87\n",
      "Best result in current iteration 0.3013019174234595 compared to overall 99999\n",
      "Generation :  88\n",
      "Best result in current iteration 0.3013019174234595 compared to overall 99999\n",
      "Generation :  89\n",
      "Best result in current iteration 0.3013019174234595 compared to overall 99999\n",
      "Generation :  90\n",
      "Best result in current iteration 0.3013019174234595 compared to overall 99999\n",
      "Generation :  91\n",
      "Best result in current iteration 0.3013019174234595 compared to overall 99999\n",
      "Generation :  92\n",
      "Best result in current iteration 0.3013019174234595 compared to overall 99999\n",
      "Generation :  93\n",
      "Best result in current iteration 0.3013019174234595 compared to overall 99999\n",
      "Generation :  94\n",
      "Best result in current iteration 0.3013019174234595 compared to overall 99999\n",
      "Generation :  95\n",
      "Best result in current iteration 0.3013019174234595 compared to overall 99999\n",
      "Generation :  96\n",
      "Best result in current iteration 0.3013019174234595 compared to overall 99999\n",
      "Generation :  97\n",
      "Best result in current iteration 0.3013019174234595 compared to overall 99999\n",
      "Generation :  98\n",
      "Best result in current iteration 0.3013019174234595 compared to overall 99999\n",
      "Generation :  99\n",
      "Best result in current iteration 0.3013019174234595 compared to overall 99999\n",
      "[[1.98539971]\n",
      " [1.98539971]\n",
      " [1.98539971]\n",
      " [1.98539971]\n",
      " [1.98539971]\n",
      " [1.98539971]\n",
      " [1.98539971]\n",
      " [1.98539971]\n",
      " [1.98539971]\n",
      " [1.98539971]\n",
      " [1.98539971]\n",
      " [1.98539971]\n",
      " [1.98539971]\n",
      " [1.98539971]\n",
      " [1.98539971]\n",
      " [1.98539971]\n",
      " [1.98539971]\n",
      " [1.98539971]\n",
      " [1.98539971]\n",
      " [1.98539971]]\n",
      "[0.30130192 0.30130192 0.30130192 0.30130192 0.30130192 0.30130192\n",
      " 0.30130192 0.30130192 0.30130192 0.30130192 0.30130192 0.30130192\n",
      " 0.30130192 0.30130192 0.30130192 0.30130192 0.30130192 0.30130192\n",
      " 0.30130192 0.30130192]\n",
      "0\n",
      "(100,)\n",
      "Best solution :  [1.98539971]\n",
      "Best solution fitness :  0.3013019174234595\n"
     ]
    }
   ],
   "source": [
    "best_outputs = []\n",
    "num_generations = 100\n",
    "curr_population = np.random.uniform(low=0.0, high=2.0, size=(POP_SIZE,N_x))\n",
    "overall_min_fitness = 99999\n",
    "\n",
    "# Run many iterations\n",
    "# You should also have another convergence check\n",
    "for generation in range(num_generations):\n",
    "    print(\"Generation : \", generation)\n",
    "\n",
    "    # Measuring the fitness of each chromosome in the population.\n",
    "    fitness = calc_fitness(curr_population)\n",
    "\n",
    "    # print(\"Fitness\")\n",
    "    # print(fitness)\n",
    "\n",
    "    max_fitness = np.max(fitness)\n",
    "\n",
    "    # The best result in the current iteration.\n",
    "    print(\"Best result in current iteration {0} compared to overall {1}\".format(max_fitness, max(max_fitness, overall_min_fitness)))\n",
    "    best_outputs.append(max_fitness)\n",
    "    \n",
    "    # Selecting the best parents in the population for mating.\n",
    "    parents, _ = select_determinstic(curr_population, fitness)\n",
    "#     parents, _ = select_stochastic(curr_population, fitness)\n",
    "    \n",
    "    # print(\"Parents\")\n",
    "    # print(parents)\n",
    "\n",
    "    # Generating next generation using crossover.\n",
    "    offspring_crossed, _ = crossover(parents)\n",
    "\n",
    "    # print(\"Crossover\")\n",
    "    # print(offspring_crossover)\n",
    "\n",
    "    # Adding some variations to the offspring using mutation.\n",
    "    offspring_mutated, _ = mutation(offspring_crossed)\n",
    "\n",
    "    # print(\"Mutation\")\n",
    "    # print(offspring_mutation)\n",
    "\n",
    "    # Check for constraints\n",
    "    total_population = np.vstack((curr_population, offspring_mutated))\n",
    "    total_population = hard_constraint(total_population)\n",
    "\n",
    "    # Environmental selection\n",
    "    curr_population = environmental_selection(total_population)\n",
    "              \n",
    "# Getting the best solution after iterating finishing all generations.\n",
    "#At first, the fitness is calculated for each solution in the final generation.\n",
    "fitness = calc_fitness(curr_population)\n",
    "\n",
    "# Then return the index of that solution corresponding to the best fitness.\n",
    "max_idx = np.argmax(fitness)\n",
    "\n",
    "output = np.array(best_outputs)\n",
    "\n",
    "print(curr_population)\n",
    "print(fitness)\n",
    "print(max_idx)\n",
    "print(output.shape)\n",
    "print(\"Best solution : \", curr_population[max_idx, :])\n",
    "print(\"Best solution fitness : \", fitness[max_idx])"
   ]
  },
  {
   "cell_type": "code",
   "execution_count": 98,
   "id": "ae350fb3",
   "metadata": {},
   "outputs": [
    {
     "data": {
      "text/plain": [
       "<Figure size 1200x1200 with 0 Axes>"
      ]
     },
     "execution_count": 98,
     "metadata": {},
     "output_type": "execute_result"
    },
    {
     "data": {
      "text/plain": [
       "[<matplotlib.lines.Line2D at 0x1f9e1b069a0>]"
      ]
     },
     "execution_count": 98,
     "metadata": {},
     "output_type": "execute_result"
    },
    {
     "data": {
      "text/plain": [
       "Text(0.5, 0, 'Iteration')"
      ]
     },
     "execution_count": 98,
     "metadata": {},
     "output_type": "execute_result"
    },
    {
     "data": {
      "text/plain": [
       "Text(0, 0.5, 'Fitness')"
      ]
     },
     "execution_count": 98,
     "metadata": {},
     "output_type": "execute_result"
    },
    {
     "data": {
      "image/png": "[encoded data removed]",
      "text/plain": [
       "<Figure size 1200x1200 with 1 Axes>"
      ]
     },
     "metadata": {},
     "output_type": "display_data"
    }
   ],
   "source": [
    "import pylab as plt\n",
    "import seaborn as sns\n",
    "sns.set_context(\"talk\", font_scale=1.5, rc={\"lines.linewidth\": 2.5})\n",
    "\n",
    "%matplotlib inline\n",
    "plt.figure(figsize=(12,12))\n",
    "plt.plot(best_outputs,'-o', lw=3, ms=20, label='from scratch')\n",
    "plt.xlabel(\"Iteration\")\n",
    "plt.ylabel(\"Fitness\")\n",
    "plt.show()"
   ]
  },
  {
   "cell_type": "code",
   "execution_count": null,
   "id": "03ea2b9b",
   "metadata": {},
   "outputs": [],
   "source": []
  },
  {
   "cell_type": "code",
   "execution_count": null,
   "id": "8c668b8b",
   "metadata": {},
   "outputs": [],
   "source": []
  }
 ],
 "metadata": {
  "kernelspec": {
   "display_name": "Python 3 (ipykernel)",
   "language": "python",
   "name": "python3"
  },
  "language_info": {
   "codemirror_mode": {
    "name": "ipython",
    "version": 3
   },
   "file_extension": ".py",
   "mimetype": "text/x-python",
   "name": "python",
   "nbconvert_exporter": "python",
   "pygments_lexer": "ipython3",
   "version": "3.9.13"
  }
 },
 "nbformat": 4,
 "nbformat_minor": 5
}
